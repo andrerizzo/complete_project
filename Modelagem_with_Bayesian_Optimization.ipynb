{
  "nbformat": 4,
  "nbformat_minor": 0,
  "metadata": {
    "kernelspec": {
      "display_name": "Python 3",
      "language": "python",
      "name": "python3"
    },
    "language_info": {
      "codemirror_mode": {
        "name": "ipython",
        "version": 3
      },
      "file_extension": ".py",
      "mimetype": "text/x-python",
      "name": "python",
      "nbconvert_exporter": "python",
      "pygments_lexer": "ipython3",
      "version": "3.8.3"
    },
    "colab": {
      "name": "Modelagem.ipynb",
      "provenance": [],
      "collapsed_sections": [],
      "include_colab_link": true
    },
    "accelerator": "GPU"
  },
  "cells": [
    {
      "cell_type": "markdown",
      "metadata": {
        "id": "view-in-github",
        "colab_type": "text"
      },
      "source": [
        "<a href=\"https://colab.research.google.com/github/andrerizzo/complete_project/blob/code/Modelagem_with_Bayesian_Optimization.ipynb\" target=\"_parent\"><img src=\"https://colab.research.google.com/assets/colab-badge.svg\" alt=\"Open In Colab\"/></a>"
      ]
    },
    {
      "cell_type": "code",
      "metadata": {
        "id": "Yzw72g-ICLeg"
      },
      "source": [
        "# Importing the libraries\n",
        "import numpy as np\n",
        "import pandas as pd\n",
        "#import sklearn.linear_model as sk\n",
        "from sklearn.naive_bayes import GaussianNB\n",
        "from sklearn.preprocessing import StandardScaler\n",
        "from sklearn.preprocessing import LabelEncoder\n",
        "from sklearn.model_selection import cross_val_score\n",
        "from sklearn.model_selection import RepeatedStratifiedKFold\n",
        "from sklearn.discriminant_analysis import LinearDiscriminantAnalysis"
      ],
      "execution_count": 2,
      "outputs": []
    },
    {
      "cell_type": "code",
      "metadata": {
        "colab": {
          "base_uri": "https://localhost:8080/"
        },
        "id": "RXE36bzGCLew",
        "outputId": "c0df950a-f8d1-4517-d8b1-ba6285305d53"
      },
      "source": [
        "# Importing the dataset\n",
        "url1 = 'https://raw.githubusercontent.com/andrerizzo/complete_project/dataset/iris_predictors.csv'\n",
        "url2 = 'https://raw.githubusercontent.com/andrerizzo/complete_project/dataset/iris_response.csv'\n",
        "X = pd.read_csv(url1)\n",
        "y = pd.read_csv(url2)\n",
        "\n",
        "print(X)\n",
        "print(y)"
      ],
      "execution_count": 3,
      "outputs": [
        {
          "output_type": "stream",
          "text": [
            "     sepal_width  petal_length_trans\n",
            "0            3.0           -1.222611\n",
            "1            3.2           -1.641609\n",
            "2            3.1           -0.860957\n",
            "3            3.6           -1.222611\n",
            "4            3.9           -0.518618\n",
            "..           ...                 ...\n",
            "144          3.0            0.767216\n",
            "145          2.5            0.537961\n",
            "146          3.0            0.767216\n",
            "147          3.4            0.860957\n",
            "148          3.0            0.658733\n",
            "\n",
            "[149 rows x 2 columns]\n",
            "              class\n",
            "0       Iris-setosa\n",
            "1       Iris-setosa\n",
            "2       Iris-setosa\n",
            "3       Iris-setosa\n",
            "4       Iris-setosa\n",
            "..              ...\n",
            "144  Iris-virginica\n",
            "145  Iris-virginica\n",
            "146  Iris-virginica\n",
            "147  Iris-virginica\n",
            "148  Iris-virginica\n",
            "\n",
            "[149 rows x 1 columns]\n"
          ],
          "name": "stdout"
        }
      ]
    },
    {
      "cell_type": "code",
      "metadata": {
        "colab": {
          "base_uri": "https://localhost:8080/"
        },
        "id": "3S2bLFDMCLe0",
        "outputId": "e76e0e5b-475e-441e-9f2c-131a860cb344"
      },
      "source": [
        "# Splitting the dataset into the Training set and Test set\n",
        "from sklearn.model_selection import train_test_split\n",
        "\n",
        "X_train, X_test, y_train, y_test = train_test_split(X, y, test_size=0.2, random_state=0)\n",
        "print(X_train)\n",
        "print(X_test)\n",
        "print(y_train)\n",
        "print(y_test)"
      ],
      "execution_count": 3,
      "outputs": [
        {
          "output_type": "stream",
          "text": [
            "     sepal_width  petal_length_trans\n",
            "27           3.4           -1.222611\n",
            "97           2.5           -0.433806\n",
            "96           2.9           -0.025237\n",
            "69           3.2            0.369964\n",
            "18           3.8           -0.860957\n",
            "..           ...                 ...\n",
            "9            3.7           -0.860957\n",
            "103          3.0            1.297001\n",
            "67           2.2            0.126509\n",
            "117          2.6            2.710835\n",
            "47           3.7           -0.860957\n",
            "\n",
            "[119 rows x 2 columns]\n",
            "     sepal_width  petal_length_trans\n",
            "133          2.6            1.046561\n",
            "109          3.2            0.658733\n",
            "59           2.0           -0.369964\n",
            "80           2.4           -0.325284\n",
            "7            2.9           -1.222611\n",
            "104          3.0            1.986482\n",
            "140          3.1            0.658733\n",
            "95           2.9           -0.075776\n",
            "118          2.2            0.537961\n",
            "84           3.4            0.126509\n",
            "33           3.1           -0.860957\n",
            "44           3.0           -1.222611\n",
            "54           2.8            0.126509\n",
            "24           3.0           -0.627699\n",
            "37           3.0           -1.641609\n",
            "132          2.8            0.658733\n",
            "111          3.0            0.923581\n",
            "73           2.9           -0.025237\n",
            "16           3.5           -1.222611\n",
            "45           3.8           -0.627699\n",
            "40           2.3           -1.641609\n",
            "8            3.1           -0.860957\n",
            "85           3.1            0.290005\n",
            "22           3.3           -0.518618\n",
            "62           2.9            0.290005\n",
            "94           3.0           -0.075776\n",
            "90           3.0            0.220472\n",
            "26           3.5           -0.860957\n",
            "43           3.8           -0.461702\n",
            "134          3.0            1.641609\n",
            "               class\n",
            "27       Iris-setosa\n",
            "97   Iris-versicolor\n",
            "96   Iris-versicolor\n",
            "69   Iris-versicolor\n",
            "18       Iris-setosa\n",
            "..               ...\n",
            "9        Iris-setosa\n",
            "103   Iris-virginica\n",
            "67   Iris-versicolor\n",
            "117   Iris-virginica\n",
            "47       Iris-setosa\n",
            "\n",
            "[119 rows x 1 columns]\n",
            "               class\n",
            "133   Iris-virginica\n",
            "109   Iris-virginica\n",
            "59   Iris-versicolor\n",
            "80   Iris-versicolor\n",
            "7        Iris-setosa\n",
            "104   Iris-virginica\n",
            "140   Iris-virginica\n",
            "95   Iris-versicolor\n",
            "118   Iris-virginica\n",
            "84   Iris-versicolor\n",
            "33       Iris-setosa\n",
            "44       Iris-setosa\n",
            "54   Iris-versicolor\n",
            "24       Iris-setosa\n",
            "37       Iris-setosa\n",
            "132   Iris-virginica\n",
            "111   Iris-virginica\n",
            "73   Iris-versicolor\n",
            "16       Iris-setosa\n",
            "45       Iris-setosa\n",
            "40       Iris-setosa\n",
            "8        Iris-setosa\n",
            "85   Iris-versicolor\n",
            "22       Iris-setosa\n",
            "62   Iris-versicolor\n",
            "94   Iris-versicolor\n",
            "90   Iris-versicolor\n",
            "26       Iris-setosa\n",
            "43       Iris-setosa\n",
            "134   Iris-virginica\n"
          ],
          "name": "stdout"
        }
      ]
    },
    {
      "cell_type": "code",
      "metadata": {
        "id": "11hUK_6LCLe1"
      },
      "source": [
        "# Create list to store accuracy results\n",
        "results = {}"
      ],
      "execution_count": 4,
      "outputs": []
    },
    {
      "cell_type": "code",
      "metadata": {
        "colab": {
          "base_uri": "https://localhost:8080/"
        },
        "id": "DZnE6YwdCLe3",
        "outputId": "becdd51e-9587-4399-b3ab-4ea94e5d8d01"
      },
      "source": [
        "# Evaluate Models - LDA\n",
        "\n",
        "# Define model\n",
        "classifier = LinearDiscriminantAnalysis()\n",
        "\n",
        "# Define model evaluation method\n",
        "cv = RepeatedStratifiedKFold(n_splits=10, n_repeats=3, random_state=1)\n",
        "\n",
        "# Evaluate model\n",
        "scores = cross_val_score(classifier, X, y, cv=cv, scoring='accuracy', n_jobs=-1)\n",
        "\n",
        "print(\"Accuracy: %.3f (%.3f)\" % (np.mean(scores),np.std(scores)))\n",
        "\n",
        "results['LDA'] = np.mean(scores)"
      ],
      "execution_count": 5,
      "outputs": [
        {
          "output_type": "stream",
          "text": [
            "Accuracy: 0.933 (0.057)\n"
          ],
          "name": "stdout"
        }
      ]
    },
    {
      "cell_type": "code",
      "metadata": {
        "colab": {
          "base_uri": "https://localhost:8080/"
        },
        "id": "y1qHIqZjCLe4",
        "outputId": "4164350a-7c82-4f5c-afba-8872099be9f2"
      },
      "source": [
        "# Evaluate Models - kNN\n",
        "from sklearn.neighbors import KNeighborsClassifier\n",
        "\n",
        "# Define model\n",
        "classifier = KNeighborsClassifier()\n",
        "\n",
        "# Define model evaluation method\n",
        "cv = RepeatedStratifiedKFold(n_splits=10, n_repeats=3, random_state=1)\n",
        "\n",
        "# Evaluate model\n",
        "scores = cross_val_score(classifier, X, y, cv=cv, scoring='accuracy', n_jobs=-1)\n",
        "\n",
        "print(\"Accuracy: %.3f (%.3f)\" % (np.mean(scores),np.std(scores)))\n",
        "\n",
        "results['kNN'] = np.mean(scores)"
      ],
      "execution_count": 6,
      "outputs": [
        {
          "output_type": "stream",
          "text": [
            "Accuracy: 0.935 (0.064)\n"
          ],
          "name": "stdout"
        }
      ]
    },
    {
      "cell_type": "code",
      "metadata": {
        "colab": {
          "base_uri": "https://localhost:8080/"
        },
        "id": "9DMFLfnxCLe6",
        "outputId": "c702fb3b-6fe2-4cc0-909b-3401e0b02f47"
      },
      "source": [
        "# Evaluate Models - SVM\n",
        "from sklearn import svm\n",
        "\n",
        "# Define model\n",
        "classifier = svm.SVC(kernel='linear')\n",
        "\n",
        "# Define model evaluation method\n",
        "cv = RepeatedStratifiedKFold(n_splits=10, n_repeats=3, random_state=1)\n",
        "\n",
        "# Evaluate model\n",
        "scores = cross_val_score(classifier, X, y, cv=cv, scoring='accuracy', n_jobs=-1)\n",
        "\n",
        "print(\"Accuracy: %.3f (%.3f)\" % (np.mean(scores),np.std(scores)))\n",
        "\n",
        "results['SVM'] = np.mean(scores)"
      ],
      "execution_count": 7,
      "outputs": [
        {
          "output_type": "stream",
          "text": [
            "Accuracy: 0.953 (0.055)\n"
          ],
          "name": "stdout"
        }
      ]
    },
    {
      "cell_type": "code",
      "metadata": {
        "colab": {
          "base_uri": "https://localhost:8080/"
        },
        "id": "eTaJSCNaCLe7",
        "outputId": "bd237879-7b39-4959-cd8d-7a3b4473f90b"
      },
      "source": [
        "# Evaluate Models - SGD\n",
        "from sklearn.linear_model import SGDClassifier\n",
        "\n",
        "# Define model\n",
        "classifier = SGDClassifier()\n",
        "\n",
        "# Define model evaluation method\n",
        "cv = RepeatedStratifiedKFold(n_splits=10, n_repeats=3, random_state=1)\n",
        "\n",
        "# Evaluate model\n",
        "scores = cross_val_score(classifier, X, y, cv=cv, scoring='accuracy', n_jobs=-1)\n",
        "\n",
        "print(\"Accuracy: %.3f (%.3f)\" % (np.mean(scores),np.std(scores)))\n",
        "\n",
        "results['SGD'] = np.mean(scores)"
      ],
      "execution_count": 8,
      "outputs": [
        {
          "output_type": "stream",
          "text": [
            "Accuracy: 0.899 (0.066)\n"
          ],
          "name": "stdout"
        }
      ]
    },
    {
      "cell_type": "code",
      "metadata": {
        "colab": {
          "base_uri": "https://localhost:8080/"
        },
        "id": "zZpjsn29CLe9",
        "outputId": "61c7ed26-cb05-4815-f190-abe117f7697e"
      },
      "source": [
        "# Evaluate Models - Gaussian Naive Bayes\n",
        "from sklearn.naive_bayes import GaussianNB\n",
        "\n",
        "# Define model\n",
        "classifier = GaussianNB()\n",
        "\n",
        "# Define model evaluation method\n",
        "cv = RepeatedStratifiedKFold(n_splits=10, n_repeats=3, random_state=1)\n",
        "\n",
        "# Evaluate model\n",
        "scores = cross_val_score(classifier, X, y, cv=cv, scoring='accuracy', n_jobs=-1)\n",
        "\n",
        "print(\"Accuracy: %.3f (%.3f)\" % (np.mean(scores),np.std(scores)))\n",
        "\n",
        "results['Gaussian Naive Bayes'] = np.mean(scores)"
      ],
      "execution_count": 9,
      "outputs": [
        {
          "output_type": "stream",
          "text": [
            "Accuracy: 0.924 (0.054)\n"
          ],
          "name": "stdout"
        }
      ]
    },
    {
      "cell_type": "code",
      "metadata": {
        "colab": {
          "base_uri": "https://localhost:8080/"
        },
        "id": "6sWd26iaCLe9",
        "outputId": "f1b9b275-faab-44b1-e814-183f22ddc154"
      },
      "source": [
        "# Evaluate Models - Decision Tree\n",
        "from sklearn.tree import DecisionTreeClassifier\n",
        "\n",
        "# Define model\n",
        "classifier = DecisionTreeClassifier()\n",
        "\n",
        "# Define model evaluation method\n",
        "cv = RepeatedStratifiedKFold(n_splits=10, n_repeats=3, random_state=1)\n",
        "\n",
        "# Evaluate model\n",
        "scores = cross_val_score(classifier, X, y, cv=cv, scoring='accuracy', n_jobs=-1)\n",
        "\n",
        "print(\"Accuracy: %.3f (%.3f)\" % (np.mean(scores),np.std(scores)))\n",
        "\n",
        "results['Decision Trees'] = np.mean(scores)"
      ],
      "execution_count": 10,
      "outputs": [
        {
          "output_type": "stream",
          "text": [
            "Accuracy: 0.917 (0.071)\n"
          ],
          "name": "stdout"
        }
      ]
    },
    {
      "cell_type": "code",
      "metadata": {
        "colab": {
          "base_uri": "https://localhost:8080/"
        },
        "id": "FOdavQriCLe_",
        "outputId": "7e731c7d-846b-41a1-ba43-31cc5f448988"
      },
      "source": [
        "# Evaluate Models - Random Forest\n",
        "from sklearn.ensemble import RandomForestClassifier\n",
        "\n",
        "# Define model\n",
        "classifier = RandomForestClassifier()\n",
        "\n",
        "# Define model evaluation method\n",
        "cv = RepeatedStratifiedKFold(n_splits=10, n_repeats=3, random_state=1)\n",
        "\n",
        "# Evaluate model\n",
        "scores = cross_val_score(classifier, X, y, cv=cv, scoring='accuracy', n_jobs=-1, error_score='raise')\n",
        "\n",
        "print(\"Accuracy: %.3f (%.3f)\" % (np.mean(scores),np.std(scores)))\n",
        "\n",
        "results['Random Forest'] = np.mean(scores)"
      ],
      "execution_count": 11,
      "outputs": [
        {
          "output_type": "stream",
          "text": [
            "Accuracy: 0.940 (0.058)\n"
          ],
          "name": "stdout"
        }
      ]
    },
    {
      "cell_type": "code",
      "metadata": {
        "colab": {
          "base_uri": "https://localhost:8080/"
        },
        "id": "x_Vxj478CLfB",
        "outputId": "a8124e66-4e51-4f43-cd10-0a939b879735"
      },
      "source": [
        "# Evaluate Models - AdaBoost\n",
        "from sklearn.ensemble import AdaBoostClassifier\n",
        "\n",
        "# Define model\n",
        "classifier = AdaBoostClassifier()\n",
        "\n",
        "# Define model evaluation method\n",
        "cv = RepeatedStratifiedKFold(n_splits=10, n_repeats=3, random_state=1)\n",
        "\n",
        "# Evaluate model\n",
        "scores = cross_val_score(classifier, X, y, cv=cv, scoring='accuracy', n_jobs=-1, error_score='raise')\n",
        "\n",
        "print(\"Accuracy: %.3f (%.3f)\" % (np.mean(scores),np.std(scores)))\n",
        "\n",
        "results['AdaBoost'] = np.mean(scores)"
      ],
      "execution_count": 12,
      "outputs": [
        {
          "output_type": "stream",
          "text": [
            "Accuracy: 0.754 (0.111)\n"
          ],
          "name": "stdout"
        }
      ]
    },
    {
      "cell_type": "code",
      "metadata": {
        "colab": {
          "base_uri": "https://localhost:8080/"
        },
        "id": "w4ltPXRcCLfC",
        "outputId": "6e109a03-f86e-4c9e-8dbe-d49e4071c7aa"
      },
      "source": [
        "# Evaluate Models - MLP Classifier\n",
        "from sklearn.neural_network import MLPClassifier\n",
        "\n",
        "# Define model\n",
        "classifier = MLPClassifier()\n",
        "\n",
        "# Define model evaluation method\n",
        "cv = RepeatedStratifiedKFold(n_splits=10, n_repeats=3, random_state=1)\n",
        "\n",
        "# Evaluate model\n",
        "scores = cross_val_score(classifier, X, y, cv=cv, scoring='accuracy', n_jobs=-1)\n",
        "\n",
        "print(\"Accuracy: %.3f (%.3f)\" % (np.mean(scores),np.std(scores)))\n",
        "\n",
        "results['MLP Classifier'] = np.mean(scores)"
      ],
      "execution_count": 13,
      "outputs": [
        {
          "output_type": "stream",
          "text": [
            "Accuracy: 0.946 (0.056)\n"
          ],
          "name": "stdout"
        }
      ]
    },
    {
      "cell_type": "code",
      "metadata": {
        "colab": {
          "base_uri": "https://localhost:8080/"
        },
        "id": "2cDMF8j5CLfD",
        "outputId": "a0508d60-71ea-4c34-9b16-22f533eb0342"
      },
      "source": [
        "# Show results\n",
        "print(sorted(results.items(), reverse=True, key=lambda item: item[1]))"
      ],
      "execution_count": 14,
      "outputs": [
        {
          "output_type": "stream",
          "text": [
            "[('SVM', 0.9530158730158731), ('MLP Classifier', 0.9463492063492063), ('Random Forest', 0.9395238095238095), ('kNN', 0.9349206349206349), ('LDA', 0.9326984126984127), ('Gaussian Naive Bayes', 0.9236507936507937), ('Decision Trees', 0.916984126984127), ('SGD', 0.8992063492063493), ('AdaBoost', 0.7542857142857144)]\n"
          ],
          "name": "stdout"
        }
      ]
    },
    {
      "cell_type": "markdown",
      "metadata": {
        "id": "oIAP90nsCLfE"
      },
      "source": [
        "I will select the first five algorithms to tune the hyperparameters"
      ]
    },
    {
      "cell_type": "code",
      "metadata": {
        "id": "Sn4VV24XCLfF"
      },
      "source": [
        "# Hyperparameter tuning - SVM\n",
        "from skopt import BayesSearchCV\n",
        "\n",
        "# define search space\n",
        "hparams = dict()\n",
        "hparams['C'] = (1e-6, 100.0)\n",
        "hparams['kernel'] = ['linear', 'poly', 'rbf', 'sigmoid']\n",
        "hparams['degree'] = (1,5)\n",
        "hparams['gamma'] = (1e-6, 100.0)\n",
        "hparams['coef0'] = (1e-6, 100.0)\n",
        "hparams['shrinking'] = [True, False]\n",
        "hparams['tol'] = (1e-6, 100.0)\n",
        "hparams['decision_function_shape'] = ['ovo', 'ovr']\n",
        "\n",
        "# Define evaluation\n",
        "cv = RepeatedStratifiedKFold(n_splits=10, n_repeats=3, random_state=1)\n",
        "\n",
        "# Define the search\n",
        "search = BayesSearchCV(estimator=svm.SVC(), search_spaces=hparams, n_jobs=-1, cv=cv)\n",
        "\n",
        "# Perform the search\n",
        "search.fit(X, y)\n",
        "\n",
        "# Report the best result\n",
        "print(search.best_score_)\n",
        "print(search.best_params_)"
      ],
      "execution_count": null,
      "outputs": []
    },
    {
      "cell_type": "code",
      "metadata": {
        "id": "ZlHBfSBUT4La"
      },
      "source": [
        "# USING RAY[TUNE]\n",
        "#pip install ray[tune] tune-sklearn\n",
        "#pip install scikit-optimize\n",
        "\n",
        "from tune_sklearn import TuneSearchCV\n",
        "from sklearn.svm import SVC\n",
        "\n",
        "import pickle5 as pickle\n",
        "\n",
        "pb = pickle.PickleBuffer(b\"foo\")\n",
        "data = pickle.dumps(pb, protocol=5)\n",
        "assert pickle.loads(data) == b\"foo\"\n",
        "\n",
        "\n",
        "# Hyperparameter tuning - SVM\n",
        "#from skopt import BayesSearchCV\n",
        "\n",
        "# define search space\n",
        "hparams = dict()\n",
        "hparams['C'] = (1e-6, 100.0, \"log-uniform\")\n",
        "hparams['kernel'] = ['linear', 'poly', 'rbf', 'sigmoid']\n",
        "hparams['degree'] = (1,5, \"uniform\")\n",
        "#hparams['gamma'] = (1e-6, 100.0, \"log-uniform\")\n",
        "#hparams['coef0'] = (1e-6, 100.0, \"log-uniform\")\n",
        "#hparams['shrinking'] = [True, False]\n",
        "#hparams['tol'] = (1e-6, 100.0, \"log-uniform\")\n",
        "#hparams['decision_function_shape'] = ['ovo', 'ovr']\n",
        "\n",
        "# Define evaluation\n",
        "cv = RepeatedStratifiedKFold(n_splits=10, n_repeats=3, random_state=1)\n",
        "\n",
        "# Define the search\n",
        "tune_search = TuneSearchCV(SVC(),\n",
        "                      param_distributions = hparams,\n",
        "                      use_gpu = True,\n",
        "                      cv = cv,\n",
        "                      n_jobs = 1,\n",
        "                      search_optimization = 'bayesian')\n",
        "                      \n",
        "# Perform the search\n",
        "tune_search.fit(X, y)\n",
        "\n",
        "# Report the best result\n"
      ],
      "execution_count": null,
      "outputs": []
    }
  ]
}