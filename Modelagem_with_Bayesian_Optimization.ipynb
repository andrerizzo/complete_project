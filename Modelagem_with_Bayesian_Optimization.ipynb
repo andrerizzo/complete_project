{
 "cells": [
  {
   "cell_type": "markdown",
   "metadata": {
    "colab_type": "text",
    "id": "view-in-github"
   },
   "source": [
    "<a href=\"https://colab.research.google.com/github/andrerizzo/complete_project/blob/code/Modelagem_with_Bayesian_Optimization.ipynb\" target=\"_parent\"><img src=\"https://colab.research.google.com/assets/colab-badge.svg\" alt=\"Open In Colab\"/></a>"
   ]
  },
  {
   "cell_type": "code",
   "execution_count": 2,
   "metadata": {
    "id": "Yzw72g-ICLeg"
   },
   "outputs": [],
   "source": [
    "# Import libraries\n",
    "import numpy as np\n",
    "import pandas as pd\n",
    "from sklearn.preprocessing import StandardScaler\n",
    "from sklearn.preprocessing import LabelEncoder\n",
    "from sklearn.model_selection import cross_val_score\n",
    "from sklearn.model_selection import RepeatedStratifiedKFold\n"
   ]
  },
  {
   "cell_type": "code",
   "execution_count": 3,
   "metadata": {
    "colab": {
     "base_uri": "https://localhost:8080/"
    },
    "id": "RXE36bzGCLew",
    "outputId": "c0df950a-f8d1-4517-d8b1-ba6285305d53"
   },
   "outputs": [
    {
     "name": "stdout",
     "output_type": "stream",
     "text": [
      "     sepal_width  petal_length_trans\n",
      "0            3.0           -1.222611\n",
      "1            3.2           -1.641609\n",
      "2            3.1           -0.860957\n",
      "3            3.6           -1.222611\n",
      "4            3.9           -0.518618\n",
      "..           ...                 ...\n",
      "144          3.0            0.767216\n",
      "145          2.5            0.537961\n",
      "146          3.0            0.767216\n",
      "147          3.4            0.860957\n",
      "148          3.0            0.658733\n",
      "\n",
      "[149 rows x 2 columns]\n",
      "              class\n",
      "0       Iris-setosa\n",
      "1       Iris-setosa\n",
      "2       Iris-setosa\n",
      "3       Iris-setosa\n",
      "4       Iris-setosa\n",
      "..              ...\n",
      "144  Iris-virginica\n",
      "145  Iris-virginica\n",
      "146  Iris-virginica\n",
      "147  Iris-virginica\n",
      "148  Iris-virginica\n",
      "\n",
      "[149 rows x 1 columns]\n"
     ]
    }
   ],
   "source": [
    "# Import dataset\n",
    "url1 = 'https://raw.githubusercontent.com/andrerizzo/complete_project/dataset/iris_predictors.csv'\n",
    "url2 = 'https://raw.githubusercontent.com/andrerizzo/complete_project/dataset/iris_response.csv'\n",
    "X = pd.read_csv(url1)\n",
    "y = pd.read_csv(url2)\n",
    "\n",
    "print(X)\n",
    "print(y)"
   ]
  },
  {
   "cell_type": "code",
   "execution_count": 4,
   "metadata": {},
   "outputs": [
    {
     "name": "stdout",
     "output_type": "stream",
     "text": [
      "[0 0 0 0 0 0 0 0 0 0 0 0 0 0 0 0 0 0 0 0 0 0 0 0 0 0 0 0 0 0 0 0 0 0 0 0 0\n",
      " 0 0 0 0 0 0 0 0 0 0 0 0 1 1 1 1 1 1 1 1 1 1 1 1 1 1 1 1 1 1 1 1 1 1 1 1 1\n",
      " 1 1 1 1 1 1 1 1 1 1 1 1 1 1 1 1 1 1 1 1 1 1 1 1 1 2 2 2 2 2 2 2 2 2 2 2 2\n",
      " 2 2 2 2 2 2 2 2 2 2 2 2 2 2 2 2 2 2 2 2 2 2 2 2 2 2 2 2 2 2 2 2 2 2 2 2 2\n",
      " 2]\n"
     ]
    }
   ],
   "source": [
    "# Handling Categorical Variables\n",
    "\n",
    "from sklearn.preprocessing import LabelEncoder\n",
    "encoder = LabelEncoder()\n",
    "y = encoder.fit_transform(y.values.ravel())\n",
    "\n",
    "print(y)"
   ]
  },
  {
   "cell_type": "code",
   "execution_count": 5,
   "metadata": {
    "colab": {
     "base_uri": "https://localhost:8080/"
    },
    "id": "3S2bLFDMCLe0",
    "outputId": "e76e0e5b-475e-441e-9f2c-131a860cb344"
   },
   "outputs": [
    {
     "name": "stdout",
     "output_type": "stream",
     "text": [
      "     sepal_width  petal_length_trans\n",
      "27           3.4           -1.222611\n",
      "97           2.5           -0.433806\n",
      "96           2.9           -0.025237\n",
      "69           3.2            0.369964\n",
      "18           3.8           -0.860957\n",
      "..           ...                 ...\n",
      "9            3.7           -0.860957\n",
      "103          3.0            1.297001\n",
      "67           2.2            0.126509\n",
      "117          2.6            2.710835\n",
      "47           3.7           -0.860957\n",
      "\n",
      "[119 rows x 2 columns]\n",
      "     sepal_width  petal_length_trans\n",
      "133          2.6            1.046561\n",
      "109          3.2            0.658733\n",
      "59           2.0           -0.369964\n",
      "80           2.4           -0.325284\n",
      "7            2.9           -1.222611\n",
      "104          3.0            1.986482\n",
      "140          3.1            0.658733\n",
      "95           2.9           -0.075776\n",
      "118          2.2            0.537961\n",
      "84           3.4            0.126509\n",
      "33           3.1           -0.860957\n",
      "44           3.0           -1.222611\n",
      "54           2.8            0.126509\n",
      "24           3.0           -0.627699\n",
      "37           3.0           -1.641609\n",
      "132          2.8            0.658733\n",
      "111          3.0            0.923581\n",
      "73           2.9           -0.025237\n",
      "16           3.5           -1.222611\n",
      "45           3.8           -0.627699\n",
      "40           2.3           -1.641609\n",
      "8            3.1           -0.860957\n",
      "85           3.1            0.290005\n",
      "22           3.3           -0.518618\n",
      "62           2.9            0.290005\n",
      "94           3.0           -0.075776\n",
      "90           3.0            0.220472\n",
      "26           3.5           -0.860957\n",
      "43           3.8           -0.461702\n",
      "134          3.0            1.641609\n",
      "[0 1 1 1 0 2 2 1 1 0 2 0 1 2 2 2 1 1 1 2 2 1 2 2 1 2 1 0 1 1 1 1 2 1 2 0 0\n",
      " 2 1 0 0 1 0 2 1 0 1 2 1 0 2 2 2 2 0 0 2 2 0 2 0 2 2 0 0 2 0 0 0 1 2 2 0 0\n",
      " 0 1 1 0 0 1 0 2 1 2 1 0 2 0 2 0 0 2 1 2 2 1 1 2 1 2 2 1 1 0 1 2 2 0 1 1 1\n",
      " 1 0 0 0 2 1 2 0]\n",
      "[2 2 1 1 0 2 2 1 2 1 0 0 1 0 0 2 2 1 0 0 0 0 1 0 1 1 1 0 0 2]\n"
     ]
    }
   ],
   "source": [
    "# Splitting the dataset into the Training set and Test set\n",
    "from sklearn.model_selection import train_test_split\n",
    "\n",
    "X_train, X_test, y_train, y_test = train_test_split(X, y, test_size=0.2, random_state=0)\n",
    "print(X_train)\n",
    "print(X_test)\n",
    "print(y_train)\n",
    "print(y_test)"
   ]
  },
  {
   "cell_type": "code",
   "execution_count": 6,
   "metadata": {},
   "outputs": [],
   "source": [
    "# Create dictionary to store accuracy results\n",
    "results = {}"
   ]
  },
  {
   "cell_type": "code",
   "execution_count": 7,
   "metadata": {
    "colab": {
     "base_uri": "https://localhost:8080/"
    },
    "id": "DZnE6YwdCLe3",
    "outputId": "becdd51e-9587-4399-b3ab-4ea94e5d8d01"
   },
   "outputs": [
    {
     "name": "stdout",
     "output_type": "stream",
     "text": [
      "Linear Discriminant Analysis model accuracy: 0.913 (0.095) \n",
      "\n"
     ]
    }
   ],
   "source": [
    "# Evaluate Models - LDA\n",
    "\n",
    "# Import libraries\n",
    "from sklearn.discriminant_analysis import LinearDiscriminantAnalysis as LDA\n",
    "from sklearn.model_selection import cross_val_score\n",
    "from sklearn.model_selection import RepeatedStratifiedKFold\n",
    "\n",
    "# Define model\n",
    "classifier = LDA()\n",
    "\n",
    "# Define model evaluation method\n",
    "cv = RepeatedStratifiedKFold(n_splits=10, n_repeats=3, random_state=1)\n",
    "\n",
    "# Evaluate model\n",
    "scores = 0\n",
    "scores = cross_val_score(classifier, X_train, y_train, cv=cv, scoring='accuracy', n_jobs=-1)\n",
    "\n",
    "print(\"Linear Discriminant Analysis model accuracy: %.3f (%.3f)\" % (np.mean(scores),np.std(scores)), \"\\n\")\n",
    "\n",
    "# Update dictionary from accuracy results\n",
    "# results = {}\n",
    "results['LDA'] = np.mean(scores)"
   ]
  },
  {
   "cell_type": "code",
   "execution_count": null,
   "metadata": {
    "colab": {
     "base_uri": "https://localhost:8080/"
    },
    "id": "y1qHIqZjCLe4",
    "outputId": "4164350a-7c82-4f5c-afba-8872099be9f2"
   },
   "outputs": [],
   "source": [
    "# Evaluate Models - kNN\n",
    "\n",
    "# Import libraries\n",
    "from sklearn.neighbors import KNeighborsClassifier\n",
    "from sklearn.model_selection import cross_val_score\n",
    "from sklearn.model_selection import RepeatedStratifiedKFold\n",
    "\n",
    "# Define model\n",
    "classifier = KNeighborsClassifier()\n",
    "\n",
    "# Define model evaluation method\n",
    "cv = RepeatedStratifiedKFold(n_splits=10, n_repeats=3, random_state=1)\n",
    "\n",
    "# Evaluate model\n",
    "scores= 0\n",
    "scores = cross_val_score(classifier, X_train, y_train, cv=cv, scoring='accuracy', n_jobs=-1)\n",
    "\n",
    "print(\"k-Nearest Neighbors model accuracy: %.3f (%.3f)\" % (np.mean(scores),np.std(scores)), \"\\n\")\n",
    "\n",
    "# Update dictionary from accuracy results\n",
    "# results = {}\n",
    "results['kNN'] = np.mean(scores)"
   ]
  },
  {
   "cell_type": "code",
   "execution_count": 11,
   "metadata": {
    "colab": {
     "base_uri": "https://localhost:8080/"
    },
    "id": "9DMFLfnxCLe6",
    "outputId": "c702fb3b-6fe2-4cc0-909b-3401e0b02f47"
   },
   "outputs": [
    {
     "name": "stdout",
     "output_type": "stream",
     "text": [
      "Support Vector Classifier model accuracy: 0.941 (0.084) \n",
      "\n"
     ]
    }
   ],
   "source": [
    "# Evaluate Models - SVC\n",
    "\n",
    "# Import libraries\n",
    "from sklearn.svm import SVC\n",
    "from sklearn.model_selection import cross_val_score\n",
    "from sklearn.model_selection import RepeatedStratifiedKFold\n",
    "\n",
    "# Define model\n",
    "classifier = SVC(kernel='linear')\n",
    "\n",
    "# Define model evaluation method\n",
    "cv = RepeatedStratifiedKFold(n_splits=10, n_repeats=3, random_state=1)\n",
    "\n",
    "# Evaluate model\n",
    "scores = 0\n",
    "scores = cross_val_score(classifier, X_train, y_train, cv=cv, scoring='accuracy', n_jobs=-1)\n",
    "\n",
    "print(\"Support Vector Classifier model accuracy: %.3f (%.3f)\" % (np.mean(scores),np.std(scores)), \"\\n\")\n",
    "\n",
    "# Update dictionary from accuracy results\n",
    "# results = {}\n",
    "results['SVC'] = np.mean(scores)"
   ]
  },
  {
   "cell_type": "code",
   "execution_count": null,
   "metadata": {
    "colab": {
     "base_uri": "https://localhost:8080/"
    },
    "id": "eTaJSCNaCLe7",
    "outputId": "bd237879-7b39-4959-cd8d-7a3b4473f90b"
   },
   "outputs": [],
   "source": [
    "# Evaluate Models - SGD\n",
    "\n",
    "# Import libraries\n",
    "from sklearn.linear_model import SGDClassifier\n",
    "from sklearn.model_selection import cross_val_score\n",
    "from sklearn.model_selection import RepeatedStratifiedKFold\n",
    "\n",
    "# Define model\n",
    "classifier = SGDClassifier()\n",
    "\n",
    "# Define model evaluation method\n",
    "cv = RepeatedStratifiedKFold(n_splits=10, n_repeats=3, random_state=1)\n",
    "\n",
    "# Evaluate model\n",
    "scores = 0\n",
    "scores = cross_val_score(classifier, X_train, y_train, cv=cv, scoring='accuracy', n_jobs=-1)\n",
    "\n",
    "print(\"Stochastic Gradient Descend model accuracy: %.3f (%.3f)\" % (np.mean(scores),np.std(scores)), \"\\n\")\n",
    "\n",
    "# Update dictionary from accuracy results\n",
    "# results = {}\n",
    "results['SGD'] = np.mean(scores)"
   ]
  },
  {
   "cell_type": "code",
   "execution_count": null,
   "metadata": {
    "colab": {
     "base_uri": "https://localhost:8080/"
    },
    "id": "zZpjsn29CLe9",
    "outputId": "61c7ed26-cb05-4815-f190-abe117f7697e"
   },
   "outputs": [],
   "source": [
    "# Evaluate Models - Gaussian Naive Bayes\n",
    "\n",
    "# Import libraries\n",
    "from sklearn.naive_bayes import GaussianNB\n",
    "from sklearn.model_selection import cross_val_score\n",
    "from sklearn.model_selection import RepeatedStratifiedKFold\n",
    "\n",
    "# Define model\n",
    "classifier = GaussianNB()\n",
    "\n",
    "# Define model evaluation method\n",
    "cv = RepeatedStratifiedKFold(n_splits=10, n_repeats=3, random_state=1)\n",
    "\n",
    "# Evaluate model\n",
    "scores = 0\n",
    "scores = cross_val_score(classifier, X_train, y_train, cv=cv, scoring='accuracy', n_jobs=-1)\n",
    "\n",
    "print(\"Naive Bayes model accuracy: %.3f (%.3f)\" % (np.mean(scores),np.std(scores)), \"\\n\")\n",
    "\n",
    "# Update dictionary from accuracy results\n",
    "# results = {}\n",
    "results['Gaussian Naive Bayes'] = np.mean(scores)"
   ]
  },
  {
   "cell_type": "code",
   "execution_count": null,
   "metadata": {
    "colab": {
     "base_uri": "https://localhost:8080/"
    },
    "id": "6sWd26iaCLe9",
    "outputId": "f1b9b275-faab-44b1-e814-183f22ddc154"
   },
   "outputs": [],
   "source": [
    "# Evaluate Models - Decision Tree\n",
    "\n",
    "# Import libraries\n",
    "from sklearn.tree import DecisionTreeClassifier\n",
    "from sklearn.model_selection import cross_val_score\n",
    "from sklearn.model_selection import RepeatedStratifiedKFold\n",
    "\n",
    "# Define model\n",
    "classifier = DecisionTreeClassifier()\n",
    "\n",
    "# Define model evaluation method\n",
    "cv = RepeatedStratifiedKFold(n_splits=10, n_repeats=3, random_state=1)\n",
    "\n",
    "# Evaluate model\n",
    "scores = 0\n",
    "scores = cross_val_score(classifier, X_train, y_train, cv=cv, scoring='accuracy', n_jobs=-1)\n",
    "\n",
    "print(\"Decision Tree Classifier model accuracy: %.3f (%.3f)\" % (np.mean(scores),np.std(scores)), \"\\n\")\n",
    "\n",
    "# Update dictionary from accuracy results\n",
    "# results = {}\n",
    "results['Decision Trees'] = np.mean(scores)"
   ]
  },
  {
   "cell_type": "code",
   "execution_count": null,
   "metadata": {
    "colab": {
     "base_uri": "https://localhost:8080/"
    },
    "id": "FOdavQriCLe_",
    "outputId": "7e731c7d-846b-41a1-ba43-31cc5f448988"
   },
   "outputs": [],
   "source": [
    "# Evaluate Models - Random Forest\n",
    "\n",
    "# Import libraries\n",
    "from sklearn.ensemble import RandomForestClassifier\n",
    "from sklearn.model_selection import cross_val_score\n",
    "from sklearn.model_selection import RepeatedStratifiedKFold\n",
    "\n",
    "# Define model\n",
    "classifier = RandomForestClassifier()\n",
    "\n",
    "# Define model evaluation method\n",
    "cv = RepeatedStratifiedKFold(n_splits=10, n_repeats=3, random_state=1)\n",
    "\n",
    "# Evaluate model\n",
    "scores = 0\n",
    "scores = cross_val_score(classifier, X_train, y_train, cv=cv, scoring='accuracy', n_jobs=-1, error_score='raise')\n",
    "\n",
    "print(\"Random Forerst model accuracy: %.3f (%.3f)\" % (np.mean(scores),np.std(scores)), \"\\n\")\n",
    "\n",
    "# Update dictionary from accuracy results\n",
    "# results = {}\n",
    "results['Random Forest'] = np.mean(scores)"
   ]
  },
  {
   "cell_type": "code",
   "execution_count": null,
   "metadata": {
    "colab": {
     "base_uri": "https://localhost:8080/"
    },
    "id": "x_Vxj478CLfB",
    "outputId": "a8124e66-4e51-4f43-cd10-0a939b879735"
   },
   "outputs": [],
   "source": [
    "# Evaluate Models - AdaBoost\n",
    "\n",
    "# Import libraries\n",
    "from sklearn.ensemble import AdaBoostClassifier\n",
    "\n",
    "# Define model\n",
    "classifier = AdaBoostClassifier()\n",
    "\n",
    "# Define model evaluation method\n",
    "cv = RepeatedStratifiedKFold(n_splits=10, n_repeats=3, random_state=1)\n",
    "\n",
    "# Evaluate model\n",
    "scores = 0\n",
    "scores = cross_val_score(classifier, X_train, y_train, cv=cv, scoring='accuracy', n_jobs=-1, error_score='raise')\n",
    "\n",
    "print(\"AdaBoost model accuracy: %.3f (%.3f)\" % (np.mean(scores),np.std(scores)), \"\\n\")\n",
    "\n",
    "# Update dictionary from accuracy results\n",
    "# results = {}\n",
    "results['AdaBoost'] = np.mean(scores)"
   ]
  },
  {
   "cell_type": "code",
   "execution_count": null,
   "metadata": {
    "colab": {
     "base_uri": "https://localhost:8080/"
    },
    "id": "w4ltPXRcCLfC",
    "outputId": "6e109a03-f86e-4c9e-8dbe-d49e4071c7aa"
   },
   "outputs": [],
   "source": [
    "# Evaluate Models - MLP Classifier\n",
    "\n",
    "# Import libraries\n",
    "from sklearn.neural_network import MLPClassifier\n",
    "from sklearn.model_selection import cross_val_score\n",
    "from sklearn.model_selection import RepeatedStratifiedKFold\n",
    "\n",
    "# Define model\n",
    "classifier = MLPClassifier()\n",
    "\n",
    "# Define model evaluation method\n",
    "cv = RepeatedStratifiedKFold(n_splits=10, n_repeats=3, random_state=1)\n",
    "\n",
    "# Evaluate model\n",
    "scores = 0\n",
    "scores = cross_val_score(classifier, X_train, y_train, cv=cv, scoring='accuracy', n_jobs=-1)\n",
    "\n",
    "print(\"Multi-Layer Perceptron Model accuracy: %.3f (%.3f)\" % (np.mean(scores),np.std(scores)), \"\\n\")\n",
    "\n",
    "# Update dictionary from accuracy results\n",
    "# results = {}\n",
    "results['MLP Classifier'] = np.mean(scores)"
   ]
  },
  {
   "cell_type": "code",
   "execution_count": null,
   "metadata": {
    "colab": {
     "base_uri": "https://localhost:8080/"
    },
    "id": "2cDMF8j5CLfD",
    "outputId": "a0508d60-71ea-4c34-9b16-22f533eb0342"
   },
   "outputs": [],
   "source": [
    "# Show results\n",
    "\n",
    "results = sorted(results.items(), reverse=True, key=lambda item: item[1])\n",
    "results"
   ]
  },
  {
   "cell_type": "code",
   "execution_count": 9,
   "metadata": {},
   "outputs": [
    {
     "name": "stdout",
     "output_type": "stream",
     "text": [
      "Best hyperparameters:\n",
      "OrderedDict([('C', 1.0872838969479126), ('degree', 1), ('gamma', 100.0), ('kernel', 'linear')]) \n",
      "\n",
      "SVC model accuracy after best hyperparameter definition: 0.944\n"
     ]
    }
   ],
   "source": [
    "# Hyperparameter tuning - SVC\n",
    "from skopt import BayesSearchCV\n",
    "from sklearn.model_selection import RepeatedStratifiedKFold\n",
    "from sklearn.svm import SVC\n",
    "\n",
    "# define search space\n",
    "hparams = dict()\n",
    "hparams['C'] = (1e-6, 100.0, 'log-uniform')\n",
    "hparams['gamma'] = (1e-6, 100.0, 'log-uniform')\n",
    "hparams['degree'] = (1,5)\n",
    "hparams['kernel'] = ['linear', 'poly', 'rbf', 'sigmoid']\n",
    "\n",
    "# Define evaluation\n",
    "cv = RepeatedStratifiedKFold(n_splits=10, n_repeats=3, random_state=1)\n",
    "\n",
    "# Define the search\n",
    "search = BayesSearchCV(estimator=SVC(), search_spaces=hparams, n_jobs=-1, cv=cv)\n",
    "\n",
    "# Perform the search\n",
    "search.fit(X_train, y_train)\n",
    "\n",
    "# Store result\n",
    "SVC_hyper_result = search.best_params_\n",
    "\n",
    "# Report best result\n",
    "print(\"Best hyperparameters:\")\n",
    "print(SVC_hyper_result, \"\\n\")\n",
    "print(\"SVC model accuracy after best hyperparameter definition: %.3f\" % (search.best_score_))"
   ]
  },
  {
   "cell_type": "code",
   "execution_count": 10,
   "metadata": {},
   "outputs": [
    {
     "ename": "AttributeError",
     "evalue": "'numpy.ndarray' object has no attribute 'values'",
     "output_type": "error",
     "traceback": [
      "\u001b[1;31m---------------------------------------------------------------------------\u001b[0m",
      "\u001b[1;31mAttributeError\u001b[0m                            Traceback (most recent call last)",
      "\u001b[1;32m<ipython-input-10-f60dddb2f2e6>\u001b[0m in \u001b[0;36m<module>\u001b[1;34m\u001b[0m\n\u001b[0;32m     38\u001b[0m \u001b[1;33m\u001b[0m\u001b[0m\n\u001b[0;32m     39\u001b[0m \u001b[1;31m# Perform the search\u001b[0m\u001b[1;33m\u001b[0m\u001b[1;33m\u001b[0m\u001b[1;33m\u001b[0m\u001b[0m\n\u001b[1;32m---> 40\u001b[1;33m \u001b[0mtune_search\u001b[0m\u001b[1;33m.\u001b[0m\u001b[0mfit\u001b[0m\u001b[1;33m(\u001b[0m\u001b[0mX_train\u001b[0m\u001b[1;33m,\u001b[0m \u001b[0my_train\u001b[0m\u001b[1;33m.\u001b[0m\u001b[0mvalues\u001b[0m\u001b[1;33m.\u001b[0m\u001b[0mravel\u001b[0m\u001b[1;33m(\u001b[0m\u001b[1;33m)\u001b[0m\u001b[1;33m)\u001b[0m\u001b[1;33m\u001b[0m\u001b[1;33m\u001b[0m\u001b[0m\n\u001b[0m\u001b[0;32m     41\u001b[0m \u001b[1;33m\u001b[0m\u001b[0m\n\u001b[0;32m     42\u001b[0m \u001b[1;31m# Report best result\u001b[0m\u001b[1;33m\u001b[0m\u001b[1;33m\u001b[0m\u001b[1;33m\u001b[0m\u001b[0m\n",
      "\u001b[1;31mAttributeError\u001b[0m: 'numpy.ndarray' object has no attribute 'values'"
     ]
    }
   ],
   "source": [
    "# Hyperparameter tuning - Random Forest (using tune_sklearn)\n",
    "\n",
    "from tune_sklearn import TuneSearchCV\n",
    "from sklearn.ensemble import RandomForestClassifier as RFC\n",
    "\n",
    "# define search space\n",
    "hparams = dict()\n",
    "hparams['n_estimators'] = (1, 1000, 'uniform')\n",
    "hparams['criterion'] = ['gini', 'entropy']\n",
    "hparams['max_depth'] = (1,100, \"uniform\")\n",
    "hparams['min_samples_split'] = (1e-10, 9e-10, \"log-uniform\")\n",
    "hparams['min_samples_leaf'] = (1e-6, 0.5, \"log-uniform\")\n",
    "hparams['min_weight_fraction_leaf'] = (0, 0.5, \"log-uniform\")\n",
    "hparams['max_features'] = ['auto', 'sqrt', 'log2']\n",
    "hparams['max_leaf_nodes'] = (1,100, \"uniform\")\n",
    "hparams['min_impurity_decrease'] = (1e-6, 1e10, \"log-uniform\")\n",
    "#hparams['bootstrap'] = (True, False)\n",
    "hparams['oob_score'] = (True, False)\n",
    "#hparams['n_jobs'] = (-1, 1)\n",
    "hparams['class_weight'] = ('balanced', 'balanced_subsample')\n",
    "hparams['ccp_alpha'] = (1e-6, 1e10, \"log-uniform\")\n",
    "\n",
    "\n",
    "# Define evaluation\n",
    "#cv = RepeatedStratifiedKFold(n_splits=10, n_repeats=3, random_state=1)\n",
    "\n",
    "# Define the search\n",
    "tune_search = TuneSearchCV(RFC(),\n",
    "                           param_distributions = hparams,\n",
    "                           use_gpu = False,\n",
    "                           cv = 10,\n",
    "                           n_jobs = 1,\n",
    "                           search_optimization = 'bayesian',\n",
    "                           refit = True,\n",
    "                           verbose=0,\n",
    "                           random_state=1\n",
    "                          )\n",
    "                      \n",
    "# Perform the search\n",
    "tune_search.fit(X_train, y_train.values.ravel())\n",
    "\n",
    "# Report best result\n",
    "print(\"Best hyperparameters:\")\n",
    "print(tune_search.best_params_, \"\\n\")\n",
    "print(\"Random Forest model accuracy after best hyperparameter definition: %.3f\" % (tune_search.best_score_))"
   ]
  },
  {
   "cell_type": "code",
   "execution_count": null,
   "metadata": {},
   "outputs": [],
   "source": [
    "# Hyperparameter tuning - LDA (using tune_sklearn)\n",
    "\n",
    "from tune_sklearn import TuneSearchCV\n",
    "from sklearn.discriminant_analysis import LinearDiscriminantAnalysis as LDA\n",
    "\n",
    "\n",
    "# define search space\n",
    "hparams = dict()\n",
    "hparams['solver'] = ['lsqr', 'eigen']\n",
    "hparams['shrinkage'] = (None,'auto')\n",
    "#hparams['n_components'] = (1, 2)\n",
    "hparams['tol'] = (1e-6, 1e10, \"log-uniform\")\n",
    "\n",
    "\n",
    "# Define evaluation\n",
    "#cv = RepeatedStratifiedKFold(n_splits=10, n_repeats=3, random_state=1)\n",
    "\n",
    "# Define the search\n",
    "tune_search = TuneSearchCV(LDA(),\n",
    "                           param_distributions = hparams,\n",
    "                           use_gpu = False,\n",
    "                           cv = 10,\n",
    "                           n_jobs = 1,\n",
    "                           search_optimization = 'bayesian',\n",
    "                           refit = True,\n",
    "                           verbose=0, \n",
    "                           random_state=1\n",
    "                          )\n",
    "                      \n",
    "# Perform the search\n",
    "tune_search.fit(X_train, y_train.values.ravel())\n",
    "\n",
    "# Report the best result\n",
    "print(tune_search.best_params_)\n",
    "\n",
    "print(\"Multi-Layer Perceptron Model accuracy: %.3f (%.3f)\" % (np.mean(scores),np.std(scores)))\n"
   ]
  },
  {
   "cell_type": "code",
   "execution_count": 15,
   "metadata": {},
   "outputs": [
    {
     "name": "stdout",
     "output_type": "stream",
     "text": [
      "Confusion matrix\n",
      "[[12  0  0]\n",
      " [ 0 10  0]\n",
      " [ 0  0  8]] \n",
      "\n",
      "Accuracy score: 1.0 \n",
      "\n",
      "Class weights\n",
      "[1. 1. 1.]\n"
     ]
    }
   ],
   "source": [
    "# Train SVC model using computed hyperparameters\n",
    "\n",
    "from sklearn.svm import SVC\n",
    "import sklearn.metrics as clf_metrics\n",
    "\n",
    "\n",
    "# Defining model with hyperparameters\n",
    "model = SVC(C = SVC_hyper_result[\"C\"], \n",
    "            kernel = SVC_hyper_result[\"kernel\"],\n",
    "            degree = SVC_hyper_result[\"degree\"],\n",
    "            gamma = SVC_hyper_result[\"gamma\"],\n",
    "           )\n",
    "\n",
    "# Fitting model to train set\n",
    "model.fit(X_train, y_train)\n",
    "\n",
    "# Predicting with testing set\n",
    "y_pred = model.predict(X_test)\n",
    "\n",
    "#clf_metrics.auc(y_test, y_pred)\n",
    "\n",
    "# Show metrics\n",
    "print('Confusion matrix')\n",
    "print(clf_metrics.confusion_matrix(y_test, y_pred),\"\\n\")\n",
    "print('Accuracy score:', clf_metrics.accuracy_score(y_test, y_pred),\"\\n\")\n",
    "print('Class weights')\n",
    "print(model.class_weight_)\n"
   ]
  },
  {
   "cell_type": "code",
   "execution_count": null,
   "metadata": {},
   "outputs": [],
   "source": [
    "# Train kNN model using computed hyperparameters\n",
    "\n"
   ]
  }
 ],
 "metadata": {
  "accelerator": "GPU",
  "colab": {
   "collapsed_sections": [],
   "include_colab_link": true,
   "name": "Modelagem.ipynb",
   "provenance": []
  },
  "kernelspec": {
   "display_name": "Python 3",
   "language": "python",
   "name": "python3"
  },
  "language_info": {
   "codemirror_mode": {
    "name": "ipython",
    "version": 3
   },
   "file_extension": ".py",
   "mimetype": "text/x-python",
   "name": "python",
   "nbconvert_exporter": "python",
   "pygments_lexer": "ipython3",
   "version": "3.8.5"
  }
 },
 "nbformat": 4,
 "nbformat_minor": 1
}
